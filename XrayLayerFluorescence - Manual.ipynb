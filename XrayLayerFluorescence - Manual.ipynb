{
 "cells": [
  {
   "cell_type": "code",
   "execution_count": 1,
   "metadata": {},
   "outputs": [],
   "source": [
    "import xlfluor as xlf\n",
    "import numpy as np\n",
    "import matplotlib.pyplot as plt\n",
    "import matplotlib as mpl\n",
    "import lmfit\n",
    "import pandas as pd\n",
    "\n",
    "global DEBUG\n",
    "DEBUG = True\n",
    "\n",
    "%matplotlib notebook"
   ]
  },
  {
   "cell_type": "code",
   "execution_count": null,
   "metadata": {},
   "outputs": [],
   "source": []
  },
  {
   "cell_type": "markdown",
   "metadata": {},
   "source": [
    "## Defining the Cavity"
   ]
  },
  {
   "cell_type": "code",
   "execution_count": 2,
   "metadata": {},
   "outputs": [
    {
     "name": "stdout",
     "output_type": "stream",
     "text": [
      "pt Layer Initiated.\n",
      "c Layer Initiated.\n",
      "fe2o3 Layer Initiated.\n",
      "c Layer Initiated.\n",
      "pt Layer Initiated.\n",
      "si Layer Initiated.\n",
      "pt Layer Initiated.\n",
      "c Layer Initiated.\n",
      "fe2o3 Layer Initiated.\n",
      "c Layer Initiated.\n",
      "pt Layer Initiated.\n",
      "si Layer Initiated.\n",
      "Cavity Initiated.\n"
     ]
    }
   ],
   "source": [
    "vacuum = xlf.Vacuum()\n",
    "carbon = xlf.Element(name = 'c', Z= 6, atom_weight = 12.011,density = 2.2*1e3) # the factor 1e3 converts from g/cm3 to Kg/m3\n",
    "silicon = xlf.Element(name = 'si', Z= 14, atom_weight = 28.086,density = 2.33*1e3)\n",
    "iron = xlf.Element(name = 'fe', Z = 26, atom_weight=55.845, density=7.87*1e3)\n",
    "oxygen = xlf.Element(name = 'o', Z = 8, atom_weight=15.999, density=0.143E-02*1e3) # Oxygen density is as gas!!\n",
    "platinum = xlf.Element(name = 'pt', Z = 78, atom_weight=195.078, density=21.5*1e3)\n",
    "\n",
    "iron_oxide = xlf.Composite(name = 'fe2o3', elements=[iron, oxygen], density=5.07*1e3, composition =[2,3])\n",
    "\n",
    "layer_list_custom = [\n",
    "    xlf.Layer(platinum, 2.8 * 1e-9, density=21.0e3),\n",
    "    xlf.Layer(carbon, 31.26 * 1e-9, density=1.7e3),\n",
    "    xlf.Layer(iron_oxide, 3.9 * 1e-9, inelastic_cross=0.4e9, density=4.5e3),\n",
    "    xlf.Layer(carbon, 34.136 * 1e-9, density=1.6e3),\n",
    "    xlf.Layer(platinum, 15 * 1e-9, density=21.00e3),\n",
    "    xlf.Layer(silicon, np.inf, density = 2.33*1e3, final = True)\n",
    "]\n",
    "layer_list_custom2 = [\n",
    "    xlf.Layer(platinum, 1.755 * 1e-9, density=20.5e3),\n",
    "    xlf.Layer(carbon, 31.26 * 1e-9, density=1.656e3),\n",
    "    xlf.Layer(iron_oxide, 3.9 * 1e-9, inelastic_cross=0.4e9, density=4.309e3),\n",
    "    xlf.Layer(carbon, 34.136 * 1e-9, density=1.589e3),\n",
    "    xlf.Layer(platinum, 15 * 1e-9, density=20.50e3),\n",
    "    xlf.Layer(silicon, np.inf, density = 2.614*1e3, final = True)\n",
    "]\n",
    "\n",
    "cavity = xlf.Cavity(layer_list_custom2)\n",
    "\n"
   ]
  },
  {
   "cell_type": "markdown",
   "metadata": {},
   "source": [
    "## Loading Experimental Data for Fitting"
   ]
  },
  {
   "cell_type": "code",
   "execution_count": 3,
   "metadata": {},
   "outputs": [],
   "source": [
    "\n",
    "#### Let us read some experimental data for comparison\n",
    "keys = ['dt', 'dtz', 'fluor_diode', 'izero_diode', 'refl', 'scanNr',\n",
    "       'sry', 'sty']\n",
    "loaded_scan_mat = np.loadtxt('scan_486_wide_angle_diode.txt')\n",
    "loaded_scan = {}\n",
    "for i, key in enumerate(keys):\n",
    "    loaded_scan[key] = loaded_scan_mat[1:,i]\n",
    "\n",
    "experiment_data = {\n",
    "    'fluor_diode': xlf.normmax(loaded_scan['fluor_diode']),\n",
    "    'refl': xlf.normmax(loaded_scan['refl']),\n",
    "    'angles_in': np.array(loaded_scan['sry']),\n",
    "    'energies_out': np.array([6400])\n",
    "}\n",
    "\n",
    "\n",
    "##### Accounting for experimental offset\n",
    "# In this dataset it appears that the \"sry\" motor was offset by 0.025°\n",
    "experiment_data['angles_in'] = xlf.deg2rad(experiment_data['angles_in'] - 0.025)"
   ]
  },
  {
   "cell_type": "markdown",
   "metadata": {},
   "source": [
    "## Define Axes\n",
    "The axis defined here will only be regarded if the same axes are not specified in the experiment data."
   ]
  },
  {
   "cell_type": "code",
   "execution_count": 4,
   "metadata": {},
   "outputs": [],
   "source": [
    "\n",
    "energies_in=np.array([7150])\n",
    "energies_out=np.array([7150])\n",
    "angles_in  = np.linspace(xlf.deg2rad(0.2),xlf.deg2rad(1.0),290) #np.array([xlf.deg2rad(0.3)])#\n",
    "angles_out = np.linspace(xlf.deg2rad(0.2),xlf.deg2rad(1.0),300) #np.array(xlf.deg2rad(np.array([0.2,0.3])))#\n",
    "\n",
    "axes = {'energies_in': energies_in,\n",
    "        'energies_out': energies_out,\n",
    "        'angles_in': angles_in,\n",
    "        'angles_out':angles_out}"
   ]
  },
  {
   "cell_type": "code",
   "execution_count": null,
   "metadata": {},
   "outputs": [],
   "source": []
  },
  {
   "cell_type": "markdown",
   "metadata": {},
   "source": [
    "## Instantiate Problem and parameters"
   ]
  },
  {
   "cell_type": "code",
   "execution_count": 5,
   "metadata": {},
   "outputs": [
    {
     "name": "stdout",
     "output_type": "stream",
     "text": [
      "Layer 0 Solution Calculated.\n",
      "Layer 1 Solution Calculated.\n",
      "Layer 2 Solution Calculated.\n",
      "Layer 3 Solution Calculated.\n",
      "Layer 4 Solution Calculated.\n",
      "Layer 5 Solution Calculated.\n",
      "ProblemSolution Initiated.\n",
      "(1, 300, 1, 2, 2)\n",
      "(1, 1, 300, 2)\n",
      "(1, 300, 1, 2)\n",
      "(1, 1, 300)\n"
     ]
    },
    {
     "ename": "ValueError",
     "evalue": "matmul: Input operand 1 has a mismatch in its core dimension 0, with gufunc signature (n?,k),(k,m?)->(n?,m?) (size 1 is different from 2)",
     "output_type": "error",
     "traceback": [
      "\u001b[0;31m---------------------------------------------------------------------------\u001b[0m",
      "\u001b[0;31mValueError\u001b[0m                                Traceback (most recent call last)",
      "\u001b[0;32m<ipython-input-5-b88d2ea7bd15>\u001b[0m in \u001b[0;36m<module>\u001b[0;34m\u001b[0m\n\u001b[1;32m      7\u001b[0m \u001b[0;34m\u001b[0m\u001b[0m\n\u001b[1;32m      8\u001b[0m \u001b[0;31m# Calculate an initial solution\u001b[0m\u001b[0;34m\u001b[0m\u001b[0;34m\u001b[0m\u001b[0;34m\u001b[0m\u001b[0m\n\u001b[0;32m----> 9\u001b[0;31m \u001b[0mmy_problem\u001b[0m\u001b[0;34m.\u001b[0m\u001b[0msolve\u001b[0m\u001b[0;34m(\u001b[0m\u001b[0mcavity\u001b[0m\u001b[0;34m,\u001b[0m \u001b[0mparameters\u001b[0m\u001b[0;34m)\u001b[0m\u001b[0;34m\u001b[0m\u001b[0;34m\u001b[0m\u001b[0m\n\u001b[0m\u001b[1;32m     10\u001b[0m \u001b[0;34m\u001b[0m\u001b[0m\n\u001b[1;32m     11\u001b[0m \u001b[0;31m# Get the relative intensities of fluorescence and reflectivity\u001b[0m\u001b[0;34m\u001b[0m\u001b[0;34m\u001b[0m\u001b[0;34m\u001b[0m\u001b[0m\n",
      "\u001b[0;32m~/Beamtime_ESRF2018/Simulations/Xray-Layer-Fluorescence/xlfluor/problem.py\u001b[0m in \u001b[0;36msolve\u001b[0;34m(self, cavity, parameters)\u001b[0m\n\u001b[1;32m    105\u001b[0m         \u001b[0;32massert\u001b[0m \u001b[0mcavity\u001b[0m\u001b[0;34m.\u001b[0m\u001b[0msolution\u001b[0m\u001b[0;34m.\u001b[0m\u001b[0mproblem\u001b[0m \u001b[0;32mis\u001b[0m \u001b[0mself\u001b[0m \u001b[0;31m#just check that we are all pointing to the same problem\u001b[0m\u001b[0;34m\u001b[0m\u001b[0;34m\u001b[0m\u001b[0m\n\u001b[1;32m    106\u001b[0m \u001b[0;34m\u001b[0m\u001b[0m\n\u001b[0;32m--> 107\u001b[0;31m         \u001b[0mcavity\u001b[0m\u001b[0;34m.\u001b[0m\u001b[0msolution\u001b[0m\u001b[0;34m.\u001b[0m\u001b[0msolve\u001b[0m\u001b[0;34m(\u001b[0m\u001b[0mparameters\u001b[0m\u001b[0;34m)\u001b[0m\u001b[0;34m\u001b[0m\u001b[0;34m\u001b[0m\u001b[0m\n\u001b[0m\u001b[1;32m    108\u001b[0m \u001b[0;34m\u001b[0m\u001b[0m\n\u001b[1;32m    109\u001b[0m         \u001b[0mself\u001b[0m\u001b[0;34m.\u001b[0m\u001b[0mreflectivity\u001b[0m \u001b[0;34m=\u001b[0m \u001b[0mcavity\u001b[0m\u001b[0;34m.\u001b[0m\u001b[0msolution\u001b[0m\u001b[0;34m.\u001b[0m\u001b[0mcalc_R\u001b[0m\u001b[0;34m(\u001b[0m\u001b[0;34m)\u001b[0m\u001b[0;34m\u001b[0m\u001b[0;34m\u001b[0m\u001b[0m\n",
      "\u001b[0;32m~/Beamtime_ESRF2018/Simulations/Xray-Layer-Fluorescence/xlfluor/cavity.py\u001b[0m in \u001b[0;36msolve\u001b[0;34m(self, parameters)\u001b[0m\n\u001b[1;32m    128\u001b[0m         \u001b[0mself\u001b[0m\u001b[0;34m.\u001b[0m\u001b[0m_calc_incident_field\u001b[0m\u001b[0;34m(\u001b[0m\u001b[0;34m)\u001b[0m\u001b[0;34m\u001b[0m\u001b[0;34m\u001b[0m\u001b[0m\n\u001b[1;32m    129\u001b[0m \u001b[0;34m\u001b[0m\u001b[0m\n\u001b[0;32m--> 130\u001b[0;31m         \u001b[0mself\u001b[0m\u001b[0;34m.\u001b[0m\u001b[0m_calc_fluorescence\u001b[0m\u001b[0;34m(\u001b[0m\u001b[0;34m)\u001b[0m\u001b[0;34m\u001b[0m\u001b[0;34m\u001b[0m\u001b[0m\n\u001b[0m\u001b[1;32m    131\u001b[0m \u001b[0;34m\u001b[0m\u001b[0m\n\u001b[1;32m    132\u001b[0m     \u001b[0;31m#@timeit\u001b[0m\u001b[0;34m\u001b[0m\u001b[0;34m\u001b[0m\u001b[0;34m\u001b[0m\u001b[0m\n",
      "\u001b[0;32m~/Beamtime_ESRF2018/Simulations/Xray-Layer-Fluorescence/xlfluor/cavity.py\u001b[0m in \u001b[0;36m_calc_fluorescence\u001b[0;34m(self)\u001b[0m\n\u001b[1;32m    277\u001b[0m                     \u001b[0mprint\u001b[0m\u001b[0;34m(\u001b[0m\u001b[0mself\u001b[0m\u001b[0;34m.\u001b[0m\u001b[0mfluorescence_local_amplitude\u001b[0m\u001b[0;34m[\u001b[0m\u001b[0miEin\u001b[0m\u001b[0;34m,\u001b[0m \u001b[0;34m:\u001b[0m\u001b[0;34m,\u001b[0m\u001b[0miAin\u001b[0m \u001b[0;34m,\u001b[0m\u001b[0;34m:\u001b[0m\u001b[0;34m,\u001b[0m \u001b[0mrelevant_z_indices\u001b[0m\u001b[0;34m,\u001b[0m \u001b[0;34m:\u001b[0m\u001b[0;34m]\u001b[0m\u001b[0;34m.\u001b[0m\u001b[0mtranspose\u001b[0m\u001b[0;34m(\u001b[0m\u001b[0;34m(\u001b[0m\u001b[0;36m0\u001b[0m\u001b[0;34m,\u001b[0m\u001b[0;36m2\u001b[0m\u001b[0;34m,\u001b[0m\u001b[0;36m1\u001b[0m\u001b[0;34m,\u001b[0m\u001b[0;36m3\u001b[0m\u001b[0;34m)\u001b[0m\u001b[0;34m)\u001b[0m\u001b[0;34m.\u001b[0m\u001b[0mshape\u001b[0m\u001b[0;34m)\u001b[0m\u001b[0;34m\u001b[0m\u001b[0;34m\u001b[0m\u001b[0m\n\u001b[1;32m    278\u001b[0m                     \u001b[0mprint\u001b[0m\u001b[0;34m(\u001b[0m\u001b[0mself\u001b[0m\u001b[0;34m.\u001b[0m\u001b[0mfluorescence_local_amplitude_propagated\u001b[0m\u001b[0;34m[\u001b[0m\u001b[0miEin\u001b[0m\u001b[0;34m,\u001b[0m \u001b[0;34m:\u001b[0m\u001b[0;34m,\u001b[0m\u001b[0miAin\u001b[0m \u001b[0;34m,\u001b[0m\u001b[0;34m:\u001b[0m\u001b[0;34m,\u001b[0m \u001b[0mrelevant_z_indices\u001b[0m\u001b[0;34m]\u001b[0m\u001b[0;34m.\u001b[0m\u001b[0mshape\u001b[0m\u001b[0;34m)\u001b[0m\u001b[0;34m\u001b[0m\u001b[0;34m\u001b[0m\u001b[0m\n\u001b[0;32m--> 279\u001b[0;31m                     \u001b[0mself\u001b[0m\u001b[0;34m.\u001b[0m\u001b[0mfluorescence_local_amplitude_propagated\u001b[0m\u001b[0;34m[\u001b[0m\u001b[0miEin\u001b[0m\u001b[0;34m,\u001b[0m \u001b[0;34m:\u001b[0m\u001b[0;34m,\u001b[0m\u001b[0miAin\u001b[0m \u001b[0;34m,\u001b[0m\u001b[0;34m:\u001b[0m\u001b[0;34m,\u001b[0m \u001b[0mrelevant_z_indices\u001b[0m\u001b[0;34m]\u001b[0m \u001b[0;34m=\u001b[0m \u001b[0mL1i\u001b[0m\u001b[0;34m[\u001b[0m\u001b[0;34m:\u001b[0m\u001b[0;34m,\u001b[0m\u001b[0;34m:\u001b[0m\u001b[0;34m,\u001b[0m\u001b[0mrelevant_z_indices\u001b[0m\u001b[0;34m,\u001b[0m\u001b[0;34m:\u001b[0m\u001b[0;34m,\u001b[0m\u001b[0;34m:\u001b[0m\u001b[0;34m]\u001b[0m \u001b[0;34m@\u001b[0m \u001b[0mself\u001b[0m\u001b[0;34m.\u001b[0m\u001b[0mfluorescence_local_amplitude\u001b[0m\u001b[0;34m[\u001b[0m\u001b[0miEin\u001b[0m\u001b[0;34m,\u001b[0m \u001b[0;34m:\u001b[0m\u001b[0;34m,\u001b[0m\u001b[0miAin\u001b[0m \u001b[0;34m,\u001b[0m\u001b[0;34m:\u001b[0m\u001b[0;34m,\u001b[0m \u001b[0mrelevant_z_indices\u001b[0m\u001b[0;34m,\u001b[0m \u001b[0;34m:\u001b[0m\u001b[0;34m]\u001b[0m\u001b[0;34m.\u001b[0m\u001b[0mtranspose\u001b[0m\u001b[0;34m(\u001b[0m\u001b[0;34m(\u001b[0m\u001b[0;36m0\u001b[0m\u001b[0;34m,\u001b[0m\u001b[0;36m2\u001b[0m\u001b[0;34m,\u001b[0m\u001b[0;36m1\u001b[0m\u001b[0;34m,\u001b[0m\u001b[0;36m3\u001b[0m\u001b[0;34m)\u001b[0m\u001b[0;34m)\u001b[0m\u001b[0;34m\u001b[0m\u001b[0;34m\u001b[0m\u001b[0m\n\u001b[0m\u001b[1;32m    280\u001b[0m \u001b[0;34m\u001b[0m\u001b[0m\n\u001b[1;32m    281\u001b[0m                     \u001b[0;31m#(1, 300, 1, 2, 2)\u001b[0m\u001b[0;34m\u001b[0m\u001b[0;34m\u001b[0m\u001b[0;34m\u001b[0m\u001b[0m\n",
      "\u001b[0;31mValueError\u001b[0m: matmul: Input operand 1 has a mismatch in its core dimension 0, with gufunc signature (n?,k),(k,m?)->(n?,m?) (size 1 is different from 2)"
     ]
    }
   ],
   "source": [
    "# Construc the problem object\n",
    "my_problem = xlf.Problem(cavity, experiment_data = None, axes=axes,\\\n",
    "                         passive_layer_resolution = 3, active_layer_resolution = 1)\n",
    "\n",
    "# Get a set of parameters based on the layer list defined above\n",
    "parameters = cavity.parameters\n",
    "\n",
    "# Calculate an initial solution\n",
    "my_problem.solve(cavity, parameters)\n",
    "\n",
    "# Get the relative intensities of fluorescence and reflectivity\n",
    "cavity.get_relative_intensities(my_problem)\n",
    "\n",
    "cavity.set_fit_weigths(weight_refl = 1, weight_fluor = 2)\n"
   ]
  },
  {
   "cell_type": "code",
   "execution_count": null,
   "metadata": {},
   "outputs": [],
   "source": [
    "###################################################\n",
    "##### Diode trace plots\n",
    "###################################################\n",
    "angles_in = xlf.rad2deg(my_problem.angles_in)\n",
    "model_fluor = xlf.abs2(my_problem.fluorescence_I_angle_in_dependent)\n",
    "model_refl = np.mean(xlf.abs2(my_problem.reflectivity),0)\n",
    "\n",
    "exp_fluor = experiment_data['fluor_diode']#*cavity.parameters['I_fluorescence']\n",
    "exp_refl = experiment_data['refl']#*cavity.parameters['I_reflectivity']\n",
    "\n",
    "fig, (ax1,ax2) = plt.subplots(2,1,figsize=(7, 5))\n",
    "ax1.set_title(f'Initial Fit: Input Angle Dependencies')\n",
    "\n",
    "plt.sca(ax1)\n",
    "#ax1.plot(angles_in, exp_refl, c='k', lw=2,label = 'experiment')\n",
    "ax1.plot(angles_in, model_refl, 'C4-', label='Simulated refl')\n",
    "\n",
    "plt.ylabel('Normalized Intensity / arb. u.')\n",
    "plt.xlabel('Input Angle / °')\n",
    "plt.ylabel('Fluorescence')\n",
    "plt.legend()\n",
    "\n",
    "plt.sca(ax2)\n",
    "#ax2.plot(angles_in, exp_fluor, c='k', lw=2,label = 'experiment')\n",
    "ax2.plot(angles_in, xlf.normmax(model_fluor), c='C3',\n",
    "         label='Simulated Fluorescence')\n",
    "plt.xlabel('Input Angle / °')\n",
    "plt.legend()\n",
    "plt.ylabel('Reflectivity')\n",
    "plt.axhline(c='k', lw=.5)\n",
    "plt.tight_layout()\n",
    "\n",
    "\n",
    "##########Exit angle\n",
    "\n",
    "ax2.plot(xlf.rad2deg(my_problem.angles_out),\\\n",
    "         xlf.normmax(xlf.abs2(np.nansum(my_problem.cavity.solution.fluorescence_emitted_amplitude,(0,1,2))))\\\n",
    "         , label = 'Exit angle curve')\n",
    "plt.legend()"
   ]
  },
  {
   "cell_type": "code",
   "execution_count": null,
   "metadata": {},
   "outputs": [],
   "source": [
    "my_problem.cavity.solution.fluorescence_local_amplitude.shape"
   ]
  },
  {
   "cell_type": "markdown",
   "metadata": {},
   "source": [
    "## Detailed Plots"
   ]
  },
  {
   "cell_type": "code",
   "execution_count": null,
   "metadata": {},
   "outputs": [],
   "source": [
    "plt.figure()\n",
    "plt.pcolormesh(xlf.abs2(my_problem.cavity.solution.fluorescence_emitted_amplitude[0,0,:,:]))"
   ]
  },
  {
   "cell_type": "code",
   "execution_count": null,
   "metadata": {},
   "outputs": [],
   "source": []
  },
  {
   "cell_type": "code",
   "execution_count": null,
   "metadata": {},
   "outputs": [],
   "source": []
  },
  {
   "cell_type": "code",
   "execution_count": null,
   "metadata": {},
   "outputs": [],
   "source": []
  },
  {
   "cell_type": "code",
   "execution_count": null,
   "metadata": {},
   "outputs": [],
   "source": [
    "###################################################\n",
    "##### Diode trace plots\n",
    "###################################################\n",
    "angles_in = xlf.rad2deg(my_problem.angles_in)\n",
    "model_fluor = xlf.abs2(my_problem.fluorescence_I_angle_in_dependent)\n",
    "model_refl = np.mean(xlf.abs2(my_problem.reflectivity),0)\n",
    "\n",
    "exp_fluor = my_problem.experiment['fluor_diode']*cavity.parameters['I_fluorescence']\n",
    "exp_refl = my_problem.experiment['refl']*cavity.parameters['I_reflectivity']\n",
    "\n",
    "fig, (ax1,ax2) = plt.subplots(2,1,figsize=(7, 5))\n",
    "ax1.set_title(f'Initial Fit: Input Angle Dependencies')\n",
    "\n",
    "plt.sca(ax1)\n",
    "ax1.plot(angles_in, exp_refl, c='k', lw=2,label = 'experiment')\n",
    "ax1.plot(angles_in, model_refl, 'C4-', label='Simulated refl')\n",
    "\n",
    "plt.ylabel('Normalized Intensity / arb. u.')\n",
    "plt.xlabel('Input Angle / °')\n",
    "plt.ylabel('Fluorescence')\n",
    "plt.legend()\n",
    "\n",
    "plt.sca(ax2)\n",
    "ax2.plot(angles_in, exp_fluor, c='k', lw=2,label = 'experiment')\n",
    "ax2.plot(angles_in, model_fluor, c='C3',\n",
    "         label='Simulated Fluorescence')\n",
    "plt.xlabel('Input Angle / °')\n",
    "plt.legend()\n",
    "plt.ylabel('Reflectivity')\n",
    "plt.axhline(c='k', lw=.5)\n",
    "plt.tight_layout()\n"
   ]
  },
  {
   "cell_type": "code",
   "execution_count": null,
   "metadata": {},
   "outputs": [],
   "source": [
    "\n",
    "\n",
    "\n",
    "###################################################\n",
    "##### Diode trace plots\n",
    "###################################################\n",
    "plt.figure(figsize=(7, 5))\n",
    "ax1 = plt.gca()\n",
    "plt.ylabel('Normalized Intensity / arb. u.')\n",
    "plt.plot(xlf.normmax(my_problem.angles_in), xlf.abs2(my_problem.reflectivity)[0,:] * np.nan, 'C4-',\n",
    "         label='Simulated Reflectivity')  # dummy plots for legend\n",
    "plt.plot(xlf.normmax(my_problem.angles_in), xlf.abs2(my_problem.reflectivity)[0,:] * np.nan, 'C0--',\n",
    "         label='Measured Reflectivity')\n",
    "\n",
    "plt.plot(xlf.normmax(my_problem.angles_in), xlf.normmax(xlf.abs2(my_problem.fluorescence_I_angle_in_dependent)), c='C3',\n",
    "         label='Simulated Fluorescence')\n",
    "data_shift = 0\n",
    "\n",
    "# plt.ylim(None,6)\n",
    "plt.xlabel('Input Angle / °')\n",
    "plt.title(f'Input Angle Dependencies')\n",
    "plt.yticks([])\n",
    "plt.ylim(None, 2)\n",
    "\n",
    "ax2 = plt.gca().twinx()\n",
    "plt.plot(xlf.normmax(my_problem.angles_in), xlf.normmax(xlf.abs2(my_problem.reflectivity)[0,:]), 'C4-', label='Simulated refl')\n",
    "plt.ylabel('Reflectivity')\n",
    "plt.ylim(-1, None)\n",
    "plt.yticks([0, 0.5, 1])\n",
    "plt.axhline(c='k', lw=.5)\n",
    "\n",
    "mode_angles = [.253, .2725, .317, .3625, .420, .474, .536, .598, .662]\n",
    "for angle in mode_angles:\n",
    "    plt.axvline(angle - data_shift, lw=.5, c='C0', ls='--')\n",
    "mode_angles = [.253, .276, .318, .365, .420, .482, .536, .606, .655]\n",
    "for angle in mode_angles:\n",
    "    plt.axvline(angle - data_shift, lw=.5, c='C1', ls='--')\n",
    "\n",
    "\n"
   ]
  },
  {
   "cell_type": "code",
   "execution_count": null,
   "metadata": {},
   "outputs": [],
   "source": [
    "cavity.solution.incident_field_amplitude.shape"
   ]
  },
  {
   "cell_type": "code",
   "execution_count": null,
   "metadata": {},
   "outputs": [],
   "source": [
    "\n",
    "mpl.rcParams['text.usetex'] = True\n",
    "\n",
    "plt.figure(figsize = (7,5))\n",
    "plt.pcolormesh(xlf.rad2deg(my_problem.angles_in),my_problem.z_axis*1e9, xlf.abs2(cavity.solution.incident_field_amplitude[0,:,:]).T,\\\n",
    "               cmap = 'gnuplot', norm = mpl.colors.LogNorm(),shading = 'nearest')\n",
    "\n",
    "plt.ylabel('Cavity depth $z$ / nm')\n",
    "plt.xlabel('Incident angle $ { \\Theta}_{in}$ / $^\\circ$')\n",
    "plt.title('Excitation Intensity')\n",
    "plt.colorbar(label='$I / I_0$')\n",
    "plt.gca().invert_yaxis()\n",
    "plt.tight_layout()\n",
    "plt.ylim(80,None)\n"
   ]
  },
  {
   "cell_type": "code",
   "execution_count": null,
   "metadata": {},
   "outputs": [],
   "source": [
    "\n",
    "\n",
    "#####################################################\n",
    "######### 2d Plot\n",
    "################################################\n",
    "#plotmat = xlf.abs2(cavity.solution.fluorescence_emitted_amplitude[0,0,:,:])\n",
    "plotmat = xlf.abs2(np.nansum(cavity.solution.fluorescence_local_amplitude[0,0,:,:,:,0],2)) # sum over depth of non-propagated fluorescence\n",
    "#plotmat = cplxsq(my_problem.fluor_emitted_from_z[:,:,:])\n",
    "#plotmat = cplxsq(np.sum(my_problem.fluor_emitted_from_z[:,:,:],0))\n",
    "\n",
    "plt.figure()\n",
    "plt.pcolormesh(xlf.normmax(my_problem.angles_in),xlf.normmax(my_problem.angles_out),\\\n",
    "               plotmat.T,norm = mpl.colors.LogNorm(vmin = 0.005), cmap = 'gnuplot', shading = 'nearest')#,vmax=4e3)#\n",
    "plt.ylabel('Output angle / °')\n",
    "plt.xlabel('Input angle / °')\n",
    "plt.title('Emitted Fluorescence Intensity')\n",
    "plt.colorbar(label=r'$\\tilde{I} / I_0$')\n",
    "plt.tight_layout()\n",
    "\n",
    "\n",
    "#########################################\n",
    "\n",
    "\n",
    "example_angle_in = xlf.deg2rad(0.3)\n",
    "example_angle_in_index = np.argmin(np.abs(example_angle_in-my_problem.angles_in))\n",
    "\n",
    "example_angle_out = xlf.deg2rad(0.342)\n",
    "example_angle_out_index = np.argmin(np.abs(example_angle_out-my_problem.angles_out))\n",
    "\n",
    "\n",
    "\n",
    "fig, axes = plt.subplots(2,1, figsize = (7,5))\n",
    "plt.sca(axes[0])\n",
    "plt.pcolormesh(xlf.normmax(my_problem.angles_in),my_problem.z_axis*1e9,\\\n",
    "               xlf.abs2(cavity.solution.fluorescence_local_amplitude_propagated[0,0,:,example_angle_out_index,:]).T,shading = 'nearest',cmap = 'gnuplot')\n",
    "plt.axvline(xlf.normmax(example_angle_in), ls = '--', lw= 1, c='grey')\n",
    "\n",
    "plt.ylabel('Cavity depth $z_p$ / nm')\n",
    "plt.xlabel('Input angle / °')\n",
    "plt.title(r'Fluorescence Intensity $\\theta_{in}$ dependency at $\\theta_{out}$ ='+f' {xlf.normmax(my_problem.angles_out[example_angle_out_index]):.2}°')\n",
    "plt.colorbar(label=r'$\\tilde{I}_{-} / I_0$')\n",
    "plt.gca().invert_yaxis()\n",
    "plt.ylim(32.5,36.5)\n",
    "plt.tight_layout()\n",
    "plt.gca().invert_yaxis()\n",
    "\n",
    "plt.sca(axes[1])\n",
    "plt.pcolormesh(xlf.normmax(my_problem.angles_out),my_problem.z_axis*1e9,\\\n",
    "               xlf.abs2(cavity.solution.fluorescence_local_amplitude_propagated[0,0,example_angle_in_index,:,:]).T,shading = 'nearest', vmax=None,cmap = 'gnuplot')#, norm = mpl.colors.LogNorm()\n",
    "plt.axvline(xlf.normmax(example_angle_out), ls = '--', lw= 1, c='grey')\n",
    "plt.ylabel('Cavity depth $z_p$ / nm')\n",
    "plt.xlabel('Output angle / $^\\circ$')\n",
    "plt.title(r'Fluorescence Intensity $\\theta_{out}$ dependency at $\\theta_{in}$ ='+f' {xlf.normmax(my_problem.angles_in[example_angle_in_index]):.2}°')\n",
    "plt.colorbar(label=r'$\\tilde{I}_{-} / I_0$')\n",
    "plt.gca().invert_yaxis()\n",
    "plt.ylim(32.5,36.5)\n",
    "plt.tight_layout()\n",
    "plt.gca().invert_yaxis()\n",
    "\n",
    "\n",
    "\n",
    "plt.show()"
   ]
  },
  {
   "cell_type": "code",
   "execution_count": null,
   "metadata": {},
   "outputs": [],
   "source": []
  }
 ],
 "metadata": {
  "kernelspec": {
   "display_name": "Python [conda env:FLASH]",
   "language": "python",
   "name": "conda-env-FLASH-py"
  },
  "language_info": {
   "codemirror_mode": {
    "name": "ipython",
    "version": 3
   },
   "file_extension": ".py",
   "mimetype": "text/x-python",
   "name": "python",
   "nbconvert_exporter": "python",
   "pygments_lexer": "ipython3",
   "version": "3.6.9"
  }
 },
 "nbformat": 4,
 "nbformat_minor": 2
}
